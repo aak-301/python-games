{
 "cells": [
  {
   "cell_type": "markdown",
   "metadata": {},
   "source": [
    "#  💎This is another simple python game.\n",
    "\n",
    "        🔘 Whenever you start a game you are asked to input the turtle's colour on which you will bet\n",
    "    \n",
    "        🔘 Then all turtle will start racing\n",
    "        \n",
    "        🔘 Afer that, the turtle which will win the race, is shown in the dialog box\n",
    "        \n",
    "    Hope you will enjoy playing this game"
   ]
  },
  {
   "cell_type": "code",
   "execution_count": 1,
   "metadata": {},
   "outputs": [],
   "source": [
    "from turtle import Turtle, Screen\n",
    "import  random\n",
    "race = False\n",
    "t = Turtle()\n",
    "screen = Screen()\n",
    "screen.setup(width=500, height=400)\n",
    "screen.title(\"Turtle Race game\")\n",
    "turtle_colour = screen.textinput(title=\"Make tour bet\", prompt=\"Which turtle will win the race?\\n Enter a colour from VIBGYOR: \")\n",
    "color = [\"violet\", \"indigo\", \"blue\", \"green\", \"yellow\", \"orange\", \"red\"]\n",
    "speed = [10, 15, 12, 6, 9, 17, 18, 20, 13]\n",
    "\n",
    "\n",
    "t.hideturtle()\n",
    "y = 120\n",
    "pos = y\n",
    "turtle_object = []\n",
    "for i in color:\n",
    "    t = Turtle(shape=\"turtle\")\n",
    "    t.penup()\n",
    "    t.color(i)\n",
    "    t.goto(x=-240, y=pos)\n",
    "    pos -= 40\n",
    "    turtle_object.append(t)\n",
    "\n",
    "\n",
    "if turtle_colour:\n",
    "    race = True\n",
    "\n",
    "while race:\n",
    "\n",
    "    for turtles in turtle_object:\n",
    "        if turtles.xcor() > 230:\n",
    "            winner_turtle = turtles.color()\n",
    "            if winner_turtle[0] == turtle_colour:\n",
    "                screen.textinput(title=\"Results\", prompt=\"You win! \\n Press Q to exit\")\n",
    "            else:\n",
    "                screen.textinput(title=\"Results\", prompt=f\"You loose {winner_turtle[0]} turtle win! \\n Press Q to exit\")\n",
    "            race = False\n",
    "            break\n",
    "\n",
    "        distance = random.randint(0, 20)\n",
    "        turtles.forward(distance)\n",
    "\n",
    "\n",
    "screen.exitonclick()"
   ]
  },
  {
   "cell_type": "code",
   "execution_count": null,
   "metadata": {},
   "outputs": [],
   "source": []
  }
 ],
 "metadata": {
  "kernelspec": {
   "display_name": "Python 3",
   "language": "python",
   "name": "python3"
  },
  "language_info": {
   "codemirror_mode": {
    "name": "ipython",
    "version": 3
   },
   "file_extension": ".py",
   "mimetype": "text/x-python",
   "name": "python",
   "nbconvert_exporter": "python",
   "pygments_lexer": "ipython3",
   "version": "3.8.3"
  }
 },
 "nbformat": 4,
 "nbformat_minor": 4
}
