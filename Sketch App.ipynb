{
 "cells": [
  {
   "cell_type": "markdown",
   "metadata": {},
   "source": [
    "## A simple sketch app using turtle module\n",
    "    \n",
    "    Here control settings are as follows:\n",
    "        w: move forward\n",
    "        s: move backward\n",
    "        a: move left/counter-clockwise\n",
    "        d: move right/clockwise\n",
    "        c: clear the screen and bring back the turtle to original location"
   ]
  },
  {
   "cell_type": "code",
   "execution_count": 1,
   "metadata": {},
   "outputs": [],
   "source": [
    "from turtle import Turtle, Screen\n",
    "\n",
    "\n",
    "t = Turtle()\n",
    "s = Screen()\n",
    "\n",
    "\n",
    "def move_f():\n",
    "    t.forward(30)\n",
    "\n",
    "\n",
    "def move_b():\n",
    "    t.backward(20)\n",
    "\n",
    "\n",
    "def  move_cc():\n",
    "    t.left(10)\n",
    "\n",
    "\n",
    "def move_c():\n",
    "    t.right(10)\n",
    "\n",
    "\n",
    "def clear_c():\n",
    "    t.clear()\n",
    "    t.penup()\n",
    "    t.home()\n",
    "    t.pendown()\n",
    "\n",
    "\n",
    "s.listen()\n",
    "s.onkey(fun=move_f, key=\"w\")\n",
    "s.onkey(fun=move_b, key=\"s\")\n",
    "s.onkey(fun=move_cc, key=\"a\")\n",
    "s.onkey(fun=move_c, key=\"d\")\n",
    "s.onkey(fun=clear_c, key=\"c\")\n",
    "s.exitonclick()\n",
    "\n"
   ]
  },
  {
   "cell_type": "code",
   "execution_count": null,
   "metadata": {},
   "outputs": [],
   "source": []
  }
 ],
 "metadata": {
  "kernelspec": {
   "display_name": "Python 3",
   "language": "python",
   "name": "python3"
  },
  "language_info": {
   "codemirror_mode": {
    "name": "ipython",
    "version": 3
   },
   "file_extension": ".py",
   "mimetype": "text/x-python",
   "name": "python",
   "nbconvert_exporter": "python",
   "pygments_lexer": "ipython3",
   "version": "3.8.3"
  }
 },
 "nbformat": 4,
 "nbformat_minor": 4
}
